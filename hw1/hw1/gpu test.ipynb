{
 "cells": [
  {
   "cell_type": "code",
   "execution_count": 47,
   "id": "35bc9876",
   "metadata": {
    "scrolled": true
   },
   "outputs": [
    {
     "name": "stdout",
     "output_type": "stream",
     "text": [
      "without GPU: 34.374425299999984\n",
      "with GPU: 0.4443159000002197\n"
     ]
    }
   ],
   "source": [
    "from numba import jit\n",
    "import numpy as np\n",
    "from timeit import default_timer as timer\n",
    "# To run on CPU\n",
    "def func(a):\n",
    "    for i in range(100000000):\n",
    "        a[i]+= 1\n",
    "# To run on GPU\n",
    "@jit\n",
    "def func2(x):\n",
    "    return x+1\n",
    "if __name__==\"__main__\":\n",
    "    n = 100000000\n",
    "    a = np.ones(n, dtype = np.float64)\n",
    "    start = timer()\n",
    "    func(a)\n",
    "    print(\"without GPU:\", timer()-start)\n",
    "    start = timer()\n",
    "    func2(a)\n",
    "#     numba.cuda.profile_stop()\n",
    "    print(\"with GPU:\", timer()-start)"
   ]
  },
  {
   "cell_type": "code",
   "execution_count": 48,
   "id": "9218bbac",
   "metadata": {},
   "outputs": [],
   "source": [
    "x=10000"
   ]
  },
  {
   "cell_type": "code",
   "execution_count": 49,
   "id": "c3958926",
   "metadata": {},
   "outputs": [
    {
     "name": "stdout",
     "output_type": "stream",
     "text": [
      "without GPU 37.5489491000003\n"
     ]
    },
    {
     "data": {
      "text/plain": [
       "array([[ 3.56214628e-01,  1.55160416e-01, -1.40550845e-01, ...,\n",
       "        -2.44036903e-01, -1.79975294e-01,  3.67365522e-01],\n",
       "       [-2.62306776e-01, -2.52023249e-03, -1.54708185e-02, ...,\n",
       "         1.70389839e-01,  6.07371020e-02, -1.79619912e-01],\n",
       "       [-3.26794996e-02,  2.53258809e-02, -4.24141153e-02, ...,\n",
       "         5.01852667e-03, -1.36973119e-02,  8.92115217e-03],\n",
       "       ...,\n",
       "       [ 2.66336221e-01,  1.13058855e-01, -1.15124508e-01, ...,\n",
       "        -1.74438445e-01, -1.57680488e-01,  3.23960176e-01],\n",
       "       [-1.15014152e-02,  1.08954080e-02, -1.83785540e-02, ...,\n",
       "        -4.19695578e-02,  4.83773456e-04,  1.90516833e-02],\n",
       "       [ 6.14962012e-01,  2.58204400e-01, -2.10454589e-01, ...,\n",
       "        -3.70977372e-01, -2.76969238e-01,  6.43318464e-01]])"
      ]
     },
     "execution_count": 49,
     "metadata": {},
     "output_type": "execute_result"
    }
   ],
   "source": [
    "def funccpu(n):\n",
    "    a=np.random.rand(n,n)\n",
    "    start=timer()\n",
    "    b=np.linalg.inv(a)\n",
    "    print(\"without GPU\", timer()-start)\n",
    "    return b\n",
    "funccpu(x)"
   ]
  },
  {
   "cell_type": "code",
   "execution_count": 50,
   "id": "acf515a9",
   "metadata": {},
   "outputs": [],
   "source": [
    "@jit\n",
    "def funcgpu(n):\n",
    "    a=np.random.rand(n,n)\n",
    "    start=timer()\n",
    "    b=np.linalg.inv(a)\n",
    "    print(\"with GPU\", timer()-start)"
   ]
  },
  {
   "cell_type": "code",
   "execution_count": 51,
   "id": "e5a117a9",
   "metadata": {},
   "outputs": [
    {
     "name": "stderr",
     "output_type": "stream",
     "text": [
      "C:\\Users\\THINKP~1\\AppData\\Local\\Temp/ipykernel_9808/3116219408.py:1: NumbaWarning: \u001b[1m\n",
      "Compilation is falling back to object mode WITH looplifting enabled because Function \"funcgpu\" failed type inference due to: \u001b[1mUntyped global name 'timer':\u001b[0m \u001b[1m\u001b[1mCannot determine Numba type of <class 'builtin_function_or_method'>\u001b[0m\n",
      "\u001b[1m\n",
      "File \"..\\..\\..\\..\\..\\..\\..\\..\\THINKP~1\\AppData\\Local\\Temp\\ipykernel_9808\\3116219408.py\", line 4:\u001b[0m\n",
      "\u001b[1m<source missing, REPL/exec in use?>\u001b[0m\n",
      "\u001b[0m\u001b[0m\n",
      "  @jit\n",
      "C:\\Users\\Thinkpad-P43s\\anaconda3\\envs\\cv\\lib\\site-packages\\numba\\core\\object_mode_passes.py:151: NumbaWarning: \u001b[1mFunction \"funcgpu\" was compiled in object mode without forceobj=True.\n",
      "\u001b[1m\n",
      "File \"..\\..\\..\\..\\..\\..\\..\\..\\THINKP~1\\AppData\\Local\\Temp\\ipykernel_9808\\3116219408.py\", line 1:\u001b[0m\n",
      "\u001b[1m<source missing, REPL/exec in use?>\u001b[0m\n",
      "\u001b[0m\n",
      "  warnings.warn(errors.NumbaWarning(warn_msg,\n",
      "C:\\Users\\Thinkpad-P43s\\anaconda3\\envs\\cv\\lib\\site-packages\\numba\\core\\object_mode_passes.py:161: NumbaDeprecationWarning: \u001b[1m\n",
      "Fall-back from the nopython compilation path to the object mode compilation path has been detected, this is deprecated behaviour.\n",
      "\n",
      "For more information visit https://numba.pydata.org/numba-doc/latest/reference/deprecation.html#deprecation-of-object-mode-fall-back-behaviour-when-using-jit\n",
      "\u001b[1m\n",
      "File \"..\\..\\..\\..\\..\\..\\..\\..\\THINKP~1\\AppData\\Local\\Temp\\ipykernel_9808\\3116219408.py\", line 1:\u001b[0m\n",
      "\u001b[1m<source missing, REPL/exec in use?>\u001b[0m\n",
      "\u001b[0m\n",
      "  warnings.warn(errors.NumbaDeprecationWarning(msg,\n"
     ]
    },
    {
     "name": "stdout",
     "output_type": "stream",
     "text": [
      "with GPU 37.69833709999966\n"
     ]
    }
   ],
   "source": [
    "if __name__==\"__main__\":\n",
    "    n=10000\n",
    "    funcgpu(n)"
   ]
  },
  {
   "cell_type": "code",
   "execution_count": null,
   "id": "5fdc38e4",
   "metadata": {},
   "outputs": [],
   "source": []
  },
  {
   "cell_type": "code",
   "execution_count": null,
   "id": "5cc3ccf0",
   "metadata": {},
   "outputs": [],
   "source": []
  }
 ],
 "metadata": {
  "kernelspec": {
   "display_name": "Python 3 (ipykernel)",
   "language": "python",
   "name": "python3"
  },
  "language_info": {
   "codemirror_mode": {
    "name": "ipython",
    "version": 3
   },
   "file_extension": ".py",
   "mimetype": "text/x-python",
   "name": "python",
   "nbconvert_exporter": "python",
   "pygments_lexer": "ipython3",
   "version": "3.8.12"
  }
 },
 "nbformat": 4,
 "nbformat_minor": 5
}
